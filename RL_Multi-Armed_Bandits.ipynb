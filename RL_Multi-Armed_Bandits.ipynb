{
 "cells": [
  {
   "cell_type": "markdown",
   "metadata": {},
   "source": [
    "# Reinforcement Learning (Multi armed bandits)\n",
    "## Ehsan Kouchaki"
   ]
  },
  {
   "cell_type": "code",
   "execution_count": null,
   "metadata": {},
   "outputs": [],
   "source": [
    "import numpy as np\n",
    "import matplotlib.pyplot as plt"
   ]
  },
  {
   "cell_type": "markdown",
   "metadata": {},
   "source": [
    "## Problem 1"
   ]
  },
  {
   "cell_type": "code",
   "execution_count": null,
   "metadata": {},
   "outputs": [],
   "source": [
    "N=np.zeros(10)\n",
    "Qt=np.zeros(10)\n",
    "Q=np.zeros(1000)\n",
    "\n",
    "q_star = np.random.normal(0, 1, 10)\n",
    "for i in range(1000):\n",
    "    A=np.argmax(Qt)\n",
    "    R=np.random.normal(q_star[A], 1)\n",
    "    N[A]=N[A]+1\n",
    "    Qt[A]=Q[A]+1/N[A]*(R-Qt[A])\n",
    "    Q[i]=Qt[A]\n",
    "plt.plot(Q)\n"
   ]
  },
  {
   "cell_type": "markdown",
   "metadata": {},
   "source": [
    "## Problem2"
   ]
  },
  {
   "cell_type": "code",
   "execution_count": null,
   "metadata": {},
   "outputs": [],
   "source": [
    "epsilon=[0,0.01,0.1]\n",
    "for k in range(3):\n",
    "    e=epsilon[k]\n",
    "    QQ=np.zeros((2000,1000))\n",
    "    for i in range(2000):\n",
    "        N=np.zeros(10)\n",
    "        Qt=np.zeros(10)\n",
    "        q_star = np.random.normal(0, 1, 10)\n",
    "        for j in range(1000):\n",
    "            p = np.random.random()\n",
    "            if p<e:\n",
    "                A=np.where(Qt == np.random.choice(np.delete(Qt, np.argmax(Qt))))[0][0]\n",
    "            else:\n",
    "                A=np.argmax(Qt)\n",
    "            R=np.random.normal(q_star[A], 1)\n",
    "            N[A]=N[A]+1\n",
    "            Qt[A]=Qt[A]+1/N[A]*(R-Qt[A])\n",
    "            QQ[i,j]=Qt[A]\n",
    "    Q=np.zeros(1000)\n",
    "    for i in range(1000):\n",
    "        Q[i]=np.mean(QQ[:,i])\n",
    "    plt.plot(Q)"
   ]
  },
  {
   "cell_type": "markdown",
   "metadata": {},
   "source": [
    "## Problem 3"
   ]
  },
  {
   "cell_type": "code",
   "execution_count": null,
   "metadata": {},
   "outputs": [],
   "source": [
    "c=2\n",
    "e=0.1\n",
    "for k in range(2):\n",
    "    QQ=np.zeros((2000,1000))\n",
    "    for i in range(2000):\n",
    "        N=np.zeros(10)\n",
    "        Qt=np.zeros(10)\n",
    "        q_star = np.random.normal(0, 1, 10)\n",
    "        for j in range(1000):\n",
    "            if k==0:\n",
    "                p = np.random.random()\n",
    "                if p<e:\n",
    "                    A=np.where(Qt == np.random.choice(np.delete(Qt, np.argmax(Qt))))[0][0]\n",
    "                else:\n",
    "                    A=np.argmax(Qt)\n",
    "            else:\n",
    "                if 0 in N:\n",
    "                    A=np.where(N == 0)[0][0]\n",
    "                else:\n",
    "                    A=np.argmax(Qt+c*np.sqrt(np.log(j)/N))\n",
    "            R=np.random.normal(q_star[A], 1)\n",
    "            N[A]=N[A]+1\n",
    "            Qt[A]=Qt[A]+1/N[A]*(R-Qt[A])\n",
    "            QQ[i,j]=Qt[A]\n",
    "    Q=np.zeros(1000)\n",
    "    for i in range(1000):\n",
    "        Q[i]=np.mean(QQ[:,i])\n",
    "    plt.plot(Q)"
   ]
  }
 ],
 "metadata": {
  "kernelspec": {
   "display_name": "Python 3 (ipykernel)",
   "language": "python",
   "name": "python3"
  },
  "language_info": {
   "codemirror_mode": {
    "name": "ipython",
    "version": 3
   },
   "file_extension": ".py",
   "mimetype": "text/x-python",
   "name": "python",
   "nbconvert_exporter": "python",
   "pygments_lexer": "ipython3",
   "version": "3.8.8"
  }
 },
 "nbformat": 4,
 "nbformat_minor": 4
}
